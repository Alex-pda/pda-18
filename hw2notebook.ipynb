{
 "cells": [
  {
   "cell_type": "code",
   "execution_count": 3,
   "metadata": {},
   "outputs": [],
   "source": [
    "#задание 1\n",
    "#Даны 2 переменных, в которых хранятся строки произвольной длины: phrase_1 и phrase_2.\n",
    "#Напишите код, который проверяет какая из этих строк длиннее."
   ]
  },
  {
   "cell_type": "code",
   "execution_count": 6,
   "metadata": {},
   "outputs": [
    {
     "name": "stdout",
     "output_type": "stream",
     "text": [
      "Введите первую фразу: вап\n",
      "Введите вторую фразу: авп\n",
      "Фразы равной длины\n"
     ]
    }
   ],
   "source": [
    "phraze1 = input('Введите первую фразу: ')\n",
    "phraze2 = input('Введите вторую фразу: ')\n",
    "if len(phraze1) > len(phraze2):\n",
    "   print('Фраза 1 длинне Фразы 2')\n",
    "elif len(phraze1) < len(phraze2):\n",
    "   print('Фраза 2 длинне Фразы 1')\n",
    "else: print('Фразы равной длины')"
   ]
  },
  {
   "cell_type": "code",
   "execution_count": null,
   "metadata": {},
   "outputs": [],
   "source": [
    "#задание 2\n",
    "#Дана переменная, в которой хранится четырехзначное число (год). \n",
    "#Необходимо написать программу, которая выведет, является ли данный год високосным или обычным."
   ]
  },
  {
   "cell_type": "code",
   "execution_count": 8,
   "metadata": {},
   "outputs": [
    {
     "name": "stdout",
     "output_type": "stream",
     "text": [
      "2005\n",
      "обычный год\n"
     ]
    }
   ],
   "source": [
    "year = int(input())\n",
    "if (year % 4 == 0) and (year % 100 != 0) or (year % 400 == 0):\n",
    "    print('високосный год')\n",
    "else:\n",
    "    print('обычный год')"
   ]
  },
  {
   "cell_type": "code",
   "execution_count": 9,
   "metadata": {},
   "outputs": [],
   "source": [
    "#задание 3\n",
    "#Необходимо написать программу, которая будет запрашивать у пользователя месяц и дату рождения и выводить соответствующий знак зодиака."
   ]
  },
  {
   "cell_type": "code",
   "execution_count": 11,
   "metadata": {},
   "outputs": [
    {
     "name": "stdout",
     "output_type": "stream",
     "text": [
      "Введите месяц: январь\n",
      "Введите день: 23\n",
      "Ваш знак зодиака: Водолей\n"
     ]
    }
   ],
   "source": [
    "month = input('Введите месяц: ')\n",
    "date = int(input('Введите день: '))\n",
    "if month == 'январь' and date >= 1 and date <= 20:\n",
    "    print('Ваш знак зодиака: ' + 'Козерог')\n",
    "elif month == 'январь' and date >= 21 and date <= 31:\n",
    "    print('Ваш знак зодиака: ' + 'Водолей')\n",
    "elif month == 'февраль' and date >= 1 and date <= 19:\n",
    "    print('Ваш знак зодиака: ' + 'Водолей')   \n",
    "elif month == 'февраль' and date >= 20 and date <= 29:\n",
    "    print('Ваш знак зодиака: ' + 'Рыбы')\n",
    "elif month == 'март' and date >= 1 and date <= 20:\n",
    "    print('Ваш знак зодиака: ' + 'Рыбы')   \n",
    "elif month == 'март' and date >= 21 and date <= 31:\n",
    "    print('Ваш знак зодиака: ' + 'Овен')\n",
    "elif month == 'апрель' and date >= 1 and date <= 20:\n",
    "    print('Ваш знак зодиака: ' + 'Овен')   \n",
    "elif month == 'апрель' and date >= 20 and date <= 30:\n",
    "    print('Ваш знак зодиака: ' + 'Телец')\n",
    "elif month == 'май' and date >= 1 and date <= 21:\n",
    "    print('Ваш знак зодиака: ' + 'Телец')   \n",
    "elif month == 'май' and date >= 22 and date <= 31:\n",
    "    print('Ваш знак зодиака: ' + 'Близнецы')\n",
    "elif month == 'июнь' and date >= 1 and date <= 21:\n",
    "    print('Ваш знак зодиака: ' + 'Близнецы')   \n",
    "elif month == 'июнь' and date >= 22 and date <= 30:\n",
    "    print('Ваш знак зодиака: ' + 'Рак')\n",
    "elif month == 'июль' and date >= 1 and date <= 22:\n",
    "    print('Ваш знак зодиака: ' + 'Рак')   \n",
    "elif month == 'июль' and date >= 23 and date <= 31:\n",
    "    print('Ваш знак зодиака: ' + 'Лев')\n",
    "elif month == 'август' and date >= 1 and date <= 19:\n",
    "    print('Ваш знак зодиака: ' + 'Лев')   \n",
    "elif month == 'август' and date >= 24 and date <= 31:\n",
    "    print('Ваш знак зодиака: ' + 'Дева')\n",
    "elif month == 'сентябрь' and date >= 1 and date <= 23:\n",
    "    print('Ваш знак зодиака: ' + 'Дева')   \n",
    "elif month == 'сентябрь' and date >= 24 and date <= 30:\n",
    "    print('Ваш знак зодиака: ' + 'Весы')\n",
    "elif month == 'октябрь' and date >= 1 and date <= 23:\n",
    "    print('Ваш знак зодиака: ' + 'Весы')   \n",
    "elif month == 'октябрь' and date >= 24 and date <= 31:\n",
    "    print('Ваш знак зодиака: ' + 'Скорпион')\n",
    "elif month == 'ноябрь' and date >= 1 and date <= 22:\n",
    "    print('Ваш знак зодиака: ' + 'Скорпион')   \n",
    "elif month == 'ноябрь' and date >= 23 and date <= 30:\n",
    "    print('Ваш знак зодиака: ' + 'Стрелец')\n",
    "elif month == 'декабрь' and date >= 1 and date <= 22:\n",
    "    print('Ваш знак зодиака: ' + 'Стрелец')   \n",
    "elif month == 'декабрь' and date >= 23 and date <= 31:\n",
    "    print('Ваш знак зодиака: ' + 'Козерог')\n",
    "else: print('Ошибка ввода, повторите')"
   ]
  },
  {
   "cell_type": "code",
   "execution_count": 4,
   "metadata": {},
   "outputs": [],
   "source": [
    "#задание 4\n",
    "#Вам нужно написать программу для подбора упаковок по размерам товара. Размеры (ширина, длина, высота) хранятся в переменных (в сантиметрах):\n",
    "#Используйте следующие правила:\n",
    "#    если каждое из трех измерений менее 15 сантиметров, то выведите на экран \"Коробка №1\";\n",
    "#    если хотя бы одно из измерений больше 15 сантиметров, но менее 50 сантиметров, то выводите \"Коробка №2\";\n",
    "#    если длина товара больше 2 метров, то выводите \"Упаковка для лыж\";\n",
    "#    во всех остальных случаях выводите \"Стандартная коробка №3\"."
   ]
  },
  {
   "cell_type": "code",
   "execution_count": 6,
   "metadata": {},
   "outputs": [
    {
     "name": "stdout",
     "output_type": "stream",
     "text": [
      "Ширина = 45\n",
      "Длина = 7\n",
      "Высота = 777\n",
      "Коробка №2\n"
     ]
    }
   ],
   "source": [
    "width = int(input('Ширина = '))\n",
    "length = int(input('Длина = '))\n",
    "height = int(input('Высота = '))\n",
    "if width < 15 & length < 15 & height < 15:\n",
    "    print('Коробка №1')\n",
    "elif (width > 15)& (width < 50) | (length > 15)&(length < 50) | (height > 15)&(height < 50):\n",
    "    print('Коробка №2')\n",
    "elif length > 200:\n",
    "    print('Упаковка для лыж')\n",
    "else: print('Стандартная коробка №3')"
   ]
  },
  {
   "cell_type": "code",
   "execution_count": null,
   "metadata": {},
   "outputs": [],
   "source": []
  }
 ],
 "metadata": {
  "kernelspec": {
   "display_name": "Python 3",
   "language": "python",
   "name": "python3"
  },
  "language_info": {
   "codemirror_mode": {
    "name": "ipython",
    "version": 3
   },
   "file_extension": ".py",
   "mimetype": "text/x-python",
   "name": "python",
   "nbconvert_exporter": "python",
   "pygments_lexer": "ipython3",
   "version": "3.8.5"
  }
 },
 "nbformat": 4,
 "nbformat_minor": 4
}
