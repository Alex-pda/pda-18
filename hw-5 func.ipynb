{
 "cells": [
  {
   "cell_type": "code",
   "execution_count": null,
   "metadata": {},
   "outputs": [],
   "source": [
    "#Вам нужно помочь секретарю автоматизировать работу. Для этого нужно написать программу, которая будет на основе хранимых данных исполнять пользовательские команды.\n",
    "\n",
    "#Исходные данные имеют следующую структуру:\n",
    "\n",
    "#    перечень всех документов\n",
    "\n",
    "#    documents = [\n",
    "#     {'type': 'passport', 'number': '2207 876234', 'name': 'Василий Гупкин'},\n",
    "#    {'type': 'invoice', 'number': '11-2', 'name': 'Геннадий Покемонов'},\n",
    "#   {'type': 'insurance', 'number': '10006', 'name': 'Аристарх Павлов'}\n",
    "# ]\n",
    "\n",
    "#    перечень полок, на которых хранятся документы (если документ есть в documents, то он обязательно должен быть и в directories)\n",
    "\n",
    "#    directories = {\n",
    "#     '1': ['2207 876234', '11-2'],\n",
    "#     '2': ['10006'],\n",
    "#     '3': []\n",
    "#    }\n",
    "\n",
    "#Общие требования к программе:\n",
    "\n",
    "#    код должен быть грамотно декомпозирован (каждая функция отвечает за свою конкретную задачу, дублирующийся функционал переиспользуется, а его код не повторяется);\n",
    "#    в коде отсутствуют глобальные переменные (за исключением documents и directories);\n",
    "#    пользовательский ввод обрабатывается в цикле while до тех пор, пока пользователь явно не завершит программу (вводом команды \"q\").\n",
    "\n"
   ]
  },
  {
   "cell_type": "code",
   "execution_count": 14,
   "metadata": {},
   "outputs": [
    {
     "name": "stdout",
     "output_type": "stream",
     "text": [
      "Введите команду\n",
      "ds\n",
      "Введите номер полки: 2\n",
      "На полке есть документ, удалите их перед удалением полки. Текущий перечень полок: 1, 2, 3\n"
     ]
    }
   ],
   "source": [
    "documents = [\n",
    " {'type': 'passport', 'number': '2207 876234', 'name': 'Василий Гупкин'},\n",
    " {'type': 'invoice', 'number': '11-2', 'name': 'Геннадий Покемонов'},\n",
    " {'type': 'insurance', 'number': '10006', 'name': 'Аристарх Павлов'}\n",
    "]\n",
    "directories = {\n",
    " '1': ['2207 876234', '11-2'],\n",
    " '2': ['10006'],\n",
    " '3': []\n",
    "}\n",
    "#Пункт 1. Пользователь по команде \"p\" может узнать владельца документа по его номеру\n",
    "def p(documents, document_number):\n",
    "    for x in documents:\n",
    "        if x['number'] == document_number:\n",
    "            return x['name']\n",
    "#Пункт 2. Пользователь по команде \"s\" может по номеру документа узнать на какой полке он хранится\n",
    "def s(directories, document_number):\n",
    "    for k in directories:\n",
    "        if document_number in directories[k]:\n",
    "            return k\n",
    "    return \"document undefined\"\n",
    "#Пункт 3. Пользователь по команде \"l\" может увидеть полную информацию по всем документам\n",
    "def l(documents):\n",
    "    for x in documents:\n",
    "        type = x['type']\n",
    "        number = x['number']\n",
    "        name = x['name']\n",
    "        print('№: {0}, тип: {1}, владелец: {2}'.format(number, type, name), ', полка хранения:', s(directories, number) )\n",
    "#Пункт 4. Пользователь по команде \"as\" может добавить новую полку/ Переименовал команду в ad, т.к. as видимо системная\n",
    "def ad(directories):\n",
    "    number = input(\"Введите номер новой полки: \")\n",
    "    directories[number] = []\n",
    "#Пункт 5. Пользователь по команде \"ds\" может удалить существующую полку из данных (только если она пустая)\n",
    "def ds(number):\n",
    "    if number in directories:\n",
    "        if len(directories[number]) > 0:\n",
    "            return print('На полке есть документ, удалите их перед удалением полки. Текущий перечень полок: ' + ', '.join(directories.keys()))\n",
    "        del directories[number]\n",
    "        print('Полка удалена. Текущий перечень полок: ' + ', '.join(directories.keys()))\n",
    "    else: print ('Такой полки не существует. Текущий перечень полок: ' + ', '.join(directories.keys()))\n",
    "def main():\n",
    "    print('Введите команду')\n",
    "    command = input()\n",
    "    if command == 'p':\n",
    "        number = input('Введите номер документа: ')\n",
    "        print('Имя человека: ') \n",
    "        print(p(documents, number))\n",
    "    elif command == 's':\n",
    "        number = input('Введите номер документа: ')\n",
    "        print(f'Номер полки:')\n",
    "        print(s(directories, number))\n",
    "    elif command == 'l':\n",
    "        l(documents)\n",
    "    elif command == 'ad':\n",
    "        ad(directories)\n",
    "        print('Полка добавлена. Текущий перечень полок: ', end=\"\")\n",
    "        for k in directories:\n",
    "             print('{0}, '.format(k), end=\"\")\n",
    "    elif command == 'ds':\n",
    "        number = input(\"Введите номер полки: \")\n",
    "        ds(number)\n",
    "    else:\n",
    "        print('Неизвестная команда')\n",
    "main()"
   ]
  },
  {
   "cell_type": "code",
   "execution_count": null,
   "metadata": {},
   "outputs": [],
   "source": []
  }
 ],
 "metadata": {
  "kernelspec": {
   "display_name": "Python 3",
   "language": "python",
   "name": "python3"
  },
  "language_info": {
   "codemirror_mode": {
    "name": "ipython",
    "version": 3
   },
   "file_extension": ".py",
   "mimetype": "text/x-python",
   "name": "python",
   "nbconvert_exporter": "python",
   "pygments_lexer": "ipython3",
   "version": "3.8.5"
  }
 },
 "nbformat": 4,
 "nbformat_minor": 4
}
